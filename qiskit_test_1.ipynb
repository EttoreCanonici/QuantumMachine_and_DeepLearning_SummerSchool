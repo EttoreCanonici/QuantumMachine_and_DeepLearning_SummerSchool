{
 "cells": [
  {
   "cell_type": "code",
   "execution_count": 2,
   "metadata": {
    "collapsed": true
   },
   "outputs": [
    {
     "data": {
      "text/plain": "'0.24.0'"
     },
     "execution_count": 2,
     "metadata": {},
     "output_type": "execute_result"
    }
   ],
   "source": [
    "import qiskit\n",
    "qiskit.__version__"
   ]
  },
  {
   "cell_type": "code",
   "execution_count": 3,
   "outputs": [
    {
     "data": {
      "text/plain": "{'qiskit-terra': '0.24.0', 'qiskit-aer': '0.12.0', 'qiskit-ignis': None, 'qiskit-ibmq-provider': '0.20.2', 'qiskit': '0.43.0', 'qiskit-nature': None, 'qiskit-finance': None, 'qiskit-optimization': None, 'qiskit-machine-learning': None}"
     },
     "execution_count": 3,
     "metadata": {},
     "output_type": "execute_result"
    }
   ],
   "source": [
    "qiskit.__qiskit_version__"
   ],
   "metadata": {
    "collapsed": false,
    "pycharm": {
     "name": "#%%\n"
    }
   }
  },
  {
   "cell_type": "markdown",
   "source": [
    "# Define a quantum circuit"
   ],
   "metadata": {
    "collapsed": false,
    "pycharm": {
     "name": "#%% md\n"
    }
   }
  },
  {
   "cell_type": "markdown",
   "source": [],
   "metadata": {
    "collapsed": false
   }
  },
  {
   "cell_type": "code",
   "execution_count": 4,
   "outputs": [],
   "source": [
    "from qiskit import QuantumCircuit"
   ],
   "metadata": {
    "collapsed": false,
    "pycharm": {
     "name": "#%%\n"
    }
   }
  },
  {
   "cell_type": "code",
   "execution_count": 5,
   "outputs": [
    {
     "data": {
      "text/plain": "     \nq_0: \n     \nq_1: \n     \nc: 1/\n     ",
      "text/html": "<pre style=\"word-wrap: normal;white-space: pre;background: #fff0;line-height: 1.1;font-family: &quot;Courier New&quot;,Courier,monospace\">     \nq_0: \n     \nq_1: \n     \nc: 1/\n     </pre>"
     },
     "execution_count": 5,
     "metadata": {},
     "output_type": "execute_result"
    }
   ],
   "source": [
    "qc = QuantumCircuit(2, 1)\n",
    "qc.draw()"
   ],
   "metadata": {
    "collapsed": false,
    "pycharm": {
     "name": "#%%\n"
    }
   }
  },
  {
   "cell_type": "code",
   "execution_count": 6,
   "outputs": [
    {
     "data": {
      "text/plain": "       \nqrx_0: \n       \nqrx_1: \n       \ncrx: 1/\n       ",
      "text/html": "<pre style=\"word-wrap: normal;white-space: pre;background: #fff0;line-height: 1.1;font-family: &quot;Courier New&quot;,Courier,monospace\">       \nqrx_0: \n       \nqrx_1: \n       \ncrx: 1/\n       </pre>"
     },
     "execution_count": 6,
     "metadata": {},
     "output_type": "execute_result"
    }
   ],
   "source": [
    "from qiskit import QuantumRegister, ClassicalRegister\n",
    "qr = QuantumRegister(2, name='qrx')\n",
    "cr = ClassicalRegister(1, name='crx')\n",
    "qc = QuantumCircuit(qr, cr)\n",
    "qc.draw()"
   ],
   "metadata": {
    "collapsed": false,
    "pycharm": {
     "name": "#%%\n"
    }
   }
  },
  {
   "cell_type": "code",
   "execution_count": 7,
   "outputs": [
    {
     "data": {
      "text/plain": "       \nqrx_0: \n       \nqrx_1: \n       \n  qry: \n       \ncrx: 1/\n       ",
      "text/html": "<pre style=\"word-wrap: normal;white-space: pre;background: #fff0;line-height: 1.1;font-family: &quot;Courier New&quot;,Courier,monospace\">       \nqrx_0: \n       \nqrx_1: \n       \n  qry: \n       \ncrx: 1/\n       </pre>"
     },
     "execution_count": 7,
     "metadata": {},
     "output_type": "execute_result"
    }
   ],
   "source": [
    "qr2 = QuantumRegister(1, name='qry')\n",
    "qc.add_register(qr2)\n",
    "qc.draw()"
   ],
   "metadata": {
    "collapsed": false,
    "pycharm": {
     "name": "#%%\n"
    }
   }
  },
  {
   "cell_type": "code",
   "execution_count": 8,
   "outputs": [
    {
     "data": {
      "text/plain": "     ┌───┐     \nq_0: ┤ H ├──■──\n     └───┘┌─┴─┐\nq_1: ─────┤ X ├\n          └───┘",
      "text/html": "<pre style=\"word-wrap: normal;white-space: pre;background: #fff0;line-height: 1.1;font-family: &quot;Courier New&quot;,Courier,monospace\">     ┌───┐     \nq_0: ┤ H ├──■──\n     └───┘┌─┴─┐\nq_1: ─────┤ X ├\n          └───┘</pre>"
     },
     "execution_count": 8,
     "metadata": {},
     "output_type": "execute_result"
    }
   ],
   "source": [
    "qc = QuantumCircuit(2)\n",
    "qc.h(0)\n",
    "qc.cx(0, 1)\n",
    "qc.draw()"
   ],
   "metadata": {
    "collapsed": false,
    "pycharm": {
     "name": "#%%\n"
    }
   }
  },
  {
   "cell_type": "code",
   "execution_count": 9,
   "outputs": [
    {
     "data": {
      "text/plain": "      ┌───┐     \nq0_0: ┤ H ├──■──\n      └───┘┌─┴─┐\nq0_1: ─────┤ X ├\n           └───┘",
      "text/html": "<pre style=\"word-wrap: normal;white-space: pre;background: #fff0;line-height: 1.1;font-family: &quot;Courier New&quot;,Courier,monospace\">      ┌───┐     \nq0_0: ┤ H ├──■──\n      └───┘┌─┴─┐\nq0_1: ─────┤ X ├\n           └───┘</pre>"
     },
     "execution_count": 9,
     "metadata": {},
     "output_type": "execute_result"
    }
   ],
   "source": [
    "qr = QuantumRegister(2)\n",
    "qc = QuantumCircuit(qr)\n",
    "qc.h(qr[0])\n",
    "qc.cx(qr[0], qr[1])\n",
    "qc.draw()"
   ],
   "metadata": {
    "collapsed": false,
    "pycharm": {
     "name": "#%%\n"
    }
   }
  },
  {
   "cell_type": "code",
   "execution_count": 10,
   "outputs": [
    {
     "data": {
      "text/plain": "      ┌───┐     ┌─┐   \nqr_0: ┤ H ├──■──┤M├───\n      └───┘┌─┴─┐└╥┘┌─┐\nqr_1: ─────┤ X ├─╫─┤M├\n           └───┘ ║ └╥┘\ncr: 2/═══════════╩══╩═\n                 0  1 ",
      "text/html": "<pre style=\"word-wrap: normal;white-space: pre;background: #fff0;line-height: 1.1;font-family: &quot;Courier New&quot;,Courier,monospace\">      ┌───┐     ┌─┐   \nqr_0: ┤ H ├──■──┤M├───\n      └───┘┌─┴─┐└╥┘┌─┐\nqr_1: ─────┤ X ├─╫─┤M├\n           └───┘ ║ └╥┘\ncr: 2/═══════════╩══╩═\n                 0  1 </pre>"
     },
     "execution_count": 10,
     "metadata": {},
     "output_type": "execute_result"
    }
   ],
   "source": [
    "from qiskit import QuantumRegister, ClassicalRegister, QuantumCircuit\n",
    "qr = QuantumRegister(2, 'qr')\n",
    "cr = ClassicalRegister(2, 'cr')\n",
    "qc = QuantumCircuit(qr, cr)\n",
    "qc.h(qr[0])\n",
    "qc.cx(qr[0], qr[1])\n",
    "qc.measure(qr, cr)\n",
    "qc.draw()"
   ],
   "metadata": {
    "collapsed": false,
    "pycharm": {
     "name": "#%%\n"
    }
   }
  },
  {
   "cell_type": "markdown",
   "source": [
    "# Manipulation of quantum circuits"
   ],
   "metadata": {
    "collapsed": false,
    "pycharm": {
     "name": "#%% md\n"
    }
   }
  },
  {
   "cell_type": "code",
   "execution_count": 11,
   "outputs": [
    {
     "data": {
      "text/plain": "         \nq1: ──■──\n    ┌─┴─┐\n q: ┤ a ├\n    └───┘",
      "text/html": "<pre style=\"word-wrap: normal;white-space: pre;background: #fff0;line-height: 1.1;font-family: &quot;Courier New&quot;,Courier,monospace\">         \nq1: ──■──\n    ┌─┴─┐\n q: ┤ a ├\n    └───┘</pre>"
     },
     "execution_count": 11,
     "metadata": {},
     "output_type": "execute_result"
    }
   ],
   "source": [
    "qc_x = QuantumCircuit(1, name='a')\n",
    "qc_x.x(0)\n",
    "qc_cx = qc_x.control(1)\n",
    "qc_cx.draw()"
   ],
   "metadata": {
    "collapsed": false,
    "pycharm": {
     "name": "#%%\n"
    }
   }
  },
  {
   "cell_type": "code",
   "execution_count": 12,
   "outputs": [
    {
     "data": {
      "text/plain": "          ┌───┐\nq_0: ──■──┤ H ├\n     ┌─┴─┐└───┘\nq_1: ┤ X ├─────\n     └───┘     ",
      "text/html": "<pre style=\"word-wrap: normal;white-space: pre;background: #fff0;line-height: 1.1;font-family: &quot;Courier New&quot;,Courier,monospace\">          ┌───┐\nq_0: ──■──┤ H ├\n     ┌─┴─┐└───┘\nq_1: ┤ X ├─────\n     └───┘     </pre>"
     },
     "execution_count": 12,
     "metadata": {},
     "output_type": "execute_result"
    }
   ],
   "source": [
    "bell = QuantumCircuit(2, name='b')\n",
    "bell.h(0)\n",
    "bell.cx(0, 1)\n",
    "bell.inverse().draw()"
   ],
   "metadata": {
    "collapsed": false,
    "pycharm": {
     "name": "#%%\n"
    }
   }
  },
  {
   "cell_type": "code",
   "execution_count": 13,
   "outputs": [
    {
     "data": {
      "text/plain": "     ┌──────┐┌───────┐\nq_0: ┤0     ├┤0      ├\n     │  c_a ││  b_dg │\nq_1: ┤1     ├┤1      ├\n     └──────┘└───────┘",
      "text/html": "<pre style=\"word-wrap: normal;white-space: pre;background: #fff0;line-height: 1.1;font-family: &quot;Courier New&quot;,Courier,monospace\">     ┌──────┐┌───────┐\nq_0: ┤0     ├┤0      ├\n     │  c_a ││  b_dg │\nq_1: ┤1     ├┤1      ├\n     └──────┘└───────┘</pre>"
     },
     "execution_count": 13,
     "metadata": {},
     "output_type": "execute_result"
    }
   ],
   "source": [
    "qc = QuantumCircuit(2)\n",
    "qc.append(qc_cx, [0, 1])\n",
    "qc.append(bell.inverse(), [0, 1])\n",
    "qc.draw()"
   ],
   "metadata": {
    "collapsed": false,
    "pycharm": {
     "name": "#%%\n"
    }
   }
  },
  {
   "cell_type": "markdown",
   "source": [
    "# State initialization"
   ],
   "metadata": {
    "collapsed": false,
    "pycharm": {
     "name": "#%% md\n"
    }
   }
  },
  {
   "cell_type": "code",
   "execution_count": 14,
   "outputs": [
    {
     "data": {
      "text/plain": "     ┌─────────────────────────────────────────────┐\nq_0: ┤0                                            ├\n     │  Initialize(0.18257,0.36515,0.54772,0.7303) │\nq_1: ┤1                                            ├\n     └─────────────────────────────────────────────┘",
      "text/html": "<pre style=\"word-wrap: normal;white-space: pre;background: #fff0;line-height: 1.1;font-family: &quot;Courier New&quot;,Courier,monospace\">     ┌─────────────────────────────────────────────┐\nq_0: ┤0                                            ├\n     │  Initialize(0.18257,0.36515,0.54772,0.7303) │\nq_1: ┤1                                            ├\n     └─────────────────────────────────────────────┘</pre>"
     },
     "execution_count": 14,
     "metadata": {},
     "output_type": "execute_result"
    }
   ],
   "source": [
    "import numpy as np\n",
    "v = np.array([1, 2, 3, 4])\n",
    "v = v / np.linalg.norm(v)\n",
    "qc = QuantumCircuit(2)\n",
    "qc.initialize(v, [0, 1])\n",
    "qc.draw()"
   ],
   "metadata": {
    "collapsed": false,
    "pycharm": {
     "name": "#%%\n"
    }
   }
  },
  {
   "cell_type": "code",
   "execution_count": 15,
   "outputs": [
    {
     "data": {
      "text/plain": "          ┌────────────────────────────────────────────────────┐\nq_0: ─|0>─┤0                                                   ├\n          │  State Preparation(0.18257,0.36515,0.54772,0.7303) │\nq_1: ─|0>─┤1                                                   ├\n          └────────────────────────────────────────────────────┘",
      "text/html": "<pre style=\"word-wrap: normal;white-space: pre;background: #fff0;line-height: 1.1;font-family: &quot;Courier New&quot;,Courier,monospace\">          ┌────────────────────────────────────────────────────┐\nq_0: ─|0>─┤0                                                   ├\n          │  State Preparation(0.18257,0.36515,0.54772,0.7303) │\nq_1: ─|0>─┤1                                                   ├\n          └────────────────────────────────────────────────────┘</pre>"
     },
     "execution_count": 15,
     "metadata": {},
     "output_type": "execute_result"
    }
   ],
   "source": [
    "qc.decompose().draw()"
   ],
   "metadata": {
    "collapsed": false,
    "pycharm": {
     "name": "#%%\n"
    }
   }
  },
  {
   "cell_type": "code",
   "execution_count": 16,
   "outputs": [
    {
     "data": {
      "text/plain": "     ┌────────────────────────────────────────────────────┐\nq_0: ┤0                                                   ├\n     │  State Preparation(0.18257,0.36515,0.54772,0.7303) │\nq_1: ┤1                                                   ├\n     └────────────────────────────────────────────────────┘",
      "text/html": "<pre style=\"word-wrap: normal;white-space: pre;background: #fff0;line-height: 1.1;font-family: &quot;Courier New&quot;,Courier,monospace\">     ┌────────────────────────────────────────────────────┐\nq_0: ┤0                                                   ├\n     │  State Preparation(0.18257,0.36515,0.54772,0.7303) │\nq_1: ┤1                                                   ├\n     └────────────────────────────────────────────────────┘</pre>"
     },
     "execution_count": 16,
     "metadata": {},
     "output_type": "execute_result"
    }
   ],
   "source": [
    "from qiskit.circuit.library import StatePreparation\n",
    "state_preparation = StatePreparation(v)\n",
    "qc = QuantumCircuit(2)\n",
    "qc.append(state_preparation, [0, 1])\n",
    "qc.draw()"
   ],
   "metadata": {
    "collapsed": false,
    "pycharm": {
     "name": "#%%\n"
    }
   }
  },
  {
   "cell_type": "markdown",
   "source": [
    "# Parametric quantum circuit"
   ],
   "metadata": {
    "collapsed": false,
    "pycharm": {
     "name": "#%% md\n"
    }
   }
  },
  {
   "cell_type": "code",
   "execution_count": 17,
   "outputs": [],
   "source": [
    "from qiskit.circuit import Parameter, ParameterVector\n",
    "a = Parameter('a')\n",
    "b = Parameter('b')\n",
    "vec = ParameterVector('vec', 3)"
   ],
   "metadata": {
    "collapsed": false,
    "pycharm": {
     "name": "#%%\n"
    }
   }
  },
  {
   "cell_type": "code",
   "execution_count": 18,
   "outputs": [
    {
     "data": {
      "text/plain": "   ┌───┐┌───────┐┌───────┐┌─────────────────────────┐\nq: ┤ H ├┤ Rz(a) ├┤ Rx(b) ├┤ U(vec[0],vec[1],vec[2]) ├\n   └───┘└───────┘└───────┘└─────────────────────────┘",
      "text/html": "<pre style=\"word-wrap: normal;white-space: pre;background: #fff0;line-height: 1.1;font-family: &quot;Courier New&quot;,Courier,monospace\">   ┌───┐┌───────┐┌───────┐┌─────────────────────────┐\nq: ┤ H ├┤ Rz(a) ├┤ Rx(b) ├┤ U(vec[0],vec[1],vec[2]) ├\n   └───┘└───────┘└───────┘└─────────────────────────┘</pre>"
     },
     "execution_count": 18,
     "metadata": {},
     "output_type": "execute_result"
    }
   ],
   "source": [
    "qc = QuantumCircuit(1)\n",
    "qc.h(0)\n",
    "qc.rz(a, 0)\n",
    "qc.rx(b, 0)\n",
    "qc.u(vec[0], vec[1], vec[2], 0)\n",
    "qc.draw()"
   ],
   "metadata": {
    "collapsed": false,
    "pycharm": {
     "name": "#%%\n"
    }
   }
  },
  {
   "cell_type": "code",
   "execution_count": 19,
   "outputs": [
    {
     "data": {
      "text/plain": "   ┌───┐┌─────────┐┌─────────┐┌────────────────┐\nq: ┤ H ├┤ Rz(0.1) ├┤ Rx(0.2) ├┤ U(0.3,0.4,0.5) ├\n   └───┘└─────────┘└─────────┘└────────────────┘",
      "text/html": "<pre style=\"word-wrap: normal;white-space: pre;background: #fff0;line-height: 1.1;font-family: &quot;Courier New&quot;,Courier,monospace\">   ┌───┐┌─────────┐┌─────────┐┌────────────────┐\nq: ┤ H ├┤ Rz(0.1) ├┤ Rx(0.2) ├┤ U(0.3,0.4,0.5) ├\n   └───┘└─────────┘└─────────┘└────────────────┘</pre>"
     },
     "execution_count": 19,
     "metadata": {},
     "output_type": "execute_result"
    }
   ],
   "source": [
    "qc1 = qc.bind_parameters({a: 0.1, b: 0.2, vec: [0.3, 0.4, 0.5]})\n",
    "qc1.draw()"
   ],
   "metadata": {
    "collapsed": false,
    "pycharm": {
     "name": "#%%\n"
    }
   }
  },
  {
   "cell_type": "markdown",
   "source": [
    "# Look at the state of a quantum circuit (when simulating)"
   ],
   "metadata": {
    "collapsed": false,
    "pycharm": {
     "name": "#%% md\n"
    }
   }
  },
  {
   "cell_type": "code",
   "execution_count": 20,
   "outputs": [
    {
     "name": "stdout",
     "output_type": "stream",
     "text": [
      "Statevector([1.+0.j, 0.+0.j, 0.+0.j, 0.+0.j],\n",
      "            dims=(2, 2))\n"
     ]
    }
   ],
   "source": [
    "from qiskit.quantum_info import Statevector\n",
    "circuit = QuantumCircuit(2)\n",
    "ket_00 = Statevector(circuit)\n",
    "ket_00"
   ],
   "metadata": {
    "collapsed": false,
    "pycharm": {
     "name": "#%%\n"
    }
   }
  },
  {
   "cell_type": "code",
   "execution_count": 21,
   "outputs": [
    {
     "data": {
      "text/plain": "array([1, 0, 0, 0])"
     },
     "execution_count": 21,
     "metadata": {},
     "output_type": "execute_result"
    }
   ],
   "source": [
    "import numpy as np\n",
    "ket_0 = np.array([1, 0])\n",
    "ket_00 = np.kron(ket_0, ket_0)\n",
    "ket_00"
   ],
   "metadata": {
    "collapsed": false,
    "pycharm": {
     "name": "#%%\n"
    }
   }
  },
  {
   "cell_type": "code",
   "execution_count": 22,
   "outputs": [
    {
     "name": "stdout",
     "output_type": "stream",
     "text": [
      "Statevector([0.70710678+0.j, 0.        +0.j, 0.        +0.j,\n",
      "             0.70710678+0.j],\n",
      "            dims=(2, 2))\n"
     ]
    }
   ],
   "source": [
    "circuit = QuantumCircuit(2)\n",
    "circuit.h(0)\n",
    "circuit.cx(0, 1)\n",
    "ket_00_plus_11 = Statevector(circuit)\n",
    "ket_00_plus_11"
   ],
   "metadata": {
    "collapsed": false,
    "pycharm": {
     "name": "#%%\n"
    }
   }
  },
  {
   "cell_type": "code",
   "execution_count": 23,
   "outputs": [
    {
     "data": {
      "text/plain": "array([0.70710678, 0.        , 0.        , 0.70710678])"
     },
     "execution_count": 23,
     "metadata": {},
     "output_type": "execute_result"
    }
   ],
   "source": [
    "ket_1 = np.array([0, 1])\n",
    "ket_11 = np.kron(ket_1, ket_1)\n",
    "ket_00_plus_11 = (1/np.sqrt(2)) * (ket_00 + ket_11)\n",
    "ket_00_plus_11"
   ],
   "metadata": {
    "collapsed": false,
    "pycharm": {
     "name": "#%%\n"
    }
   }
  },
  {
   "cell_type": "markdown",
   "source": [
    "# Simulation & execution of quantum circuits"
   ],
   "metadata": {
    "collapsed": false,
    "pycharm": {
     "name": "#%% md\n"
    }
   }
  },
  {
   "cell_type": "code",
   "execution_count": 25,
   "outputs": [],
   "source": [
    "from qiskit import Aer, execute"
   ],
   "metadata": {
    "collapsed": false,
    "pycharm": {
     "name": "#%%\n"
    }
   }
  },
  {
   "cell_type": "code",
   "execution_count": 26,
   "outputs": [
    {
     "name": "stdout",
     "output_type": "stream",
     "text": [
      "Statevector([1.+0.j, 0.+0.j, 0.+0.j, 0.+0.j],\n",
      "            dims=(2, 2))\n"
     ]
    }
   ],
   "source": [
    "circuit = QuantumCircuit(2)\n",
    "backend = Aer.get_backend('statevector_simulator')\n",
    "job = execute(circuit, backend)\n",
    "result = job.result().get_statevector()\n",
    "result"
   ],
   "metadata": {
    "collapsed": false,
    "pycharm": {
     "name": "#%%\n"
    }
   }
  },
  {
   "cell_type": "code",
   "execution_count": 27,
   "outputs": [
    {
     "data": {
      "text/plain": "{'00': 514, '11': 486}"
     },
     "execution_count": 27,
     "metadata": {},
     "output_type": "execute_result"
    }
   ],
   "source": [
    "circuit = QuantumCircuit(2)\n",
    "circuit.h(0)\n",
    "circuit.cx(0, 1)\n",
    "circuit.measure_all()\n",
    "backend = Aer.get_backend('qasm_simulator')\n",
    "job = execute(circuit, backend, shots=1000)\n",
    "result = job.result().get_counts()\n",
    "result"
   ],
   "metadata": {
    "collapsed": false,
    "pycharm": {
     "name": "#%%\n"
    }
   }
  },
  {
   "cell_type": "code",
   "execution_count": 30,
   "outputs": [
    {
     "name": "stdout",
     "output_type": "stream",
     "text": [
      "     ┌───┐     \n",
      "q_0: ┤ H ├──■──\n",
      "     └───┘┌─┴─┐\n",
      "q_1: ─────┤ X ├\n",
      "          └───┘\n"
     ]
    },
    {
     "data": {
      "text/plain": "Operator([[ 0.70710678+0.00000000e+00j,  0.70710678-8.65956056e-17j,\n            0.        +0.00000000e+00j,  0.        +0.00000000e+00j],\n          [ 0.        +0.00000000e+00j,  0.        +0.00000000e+00j,\n            0.70710678+0.00000000e+00j, -0.70710678+8.65956056e-17j],\n          [ 0.        +0.00000000e+00j,  0.        +0.00000000e+00j,\n            0.70710678+0.00000000e+00j,  0.70710678-8.65956056e-17j],\n          [ 0.70710678+0.00000000e+00j, -0.70710678+8.65956056e-17j,\n            0.        +0.00000000e+00j,  0.        +0.00000000e+00j]],\n         input_dims=(2, 2), output_dims=(2, 2))"
     },
     "execution_count": 30,
     "metadata": {},
     "output_type": "execute_result"
    }
   ],
   "source": [
    "circuit = QuantumCircuit(2)\n",
    "circuit.h(0)\n",
    "circuit.cx(0, 1)\n",
    "print(circuit.draw())\n",
    "backend = Aer.get_backend('unitary_simulator')\n",
    "job = execute(circuit, backend)\n",
    "result = job.result().get_unitary()\n",
    "result"
   ],
   "metadata": {
    "collapsed": false,
    "pycharm": {
     "name": "#%%\n"
    }
   }
  },
  {
   "cell_type": "markdown",
   "source": [
    "# Qiskit Runtime"
   ],
   "metadata": {
    "collapsed": false,
    "pycharm": {
     "name": "#%% md\n"
    }
   }
  },
  {
   "cell_type": "code",
   "execution_count": 31,
   "outputs": [],
   "source": [
    "from qiskit.primitives import Sampler"
   ],
   "metadata": {
    "collapsed": false,
    "pycharm": {
     "name": "#%%\n"
    }
   }
  },
  {
   "cell_type": "code",
   "execution_count": 32,
   "outputs": [
    {
     "data": {
      "text/plain": "<qiskit.circuit.instructionset.InstructionSet at 0x165845355e0>"
     },
     "execution_count": 32,
     "metadata": {},
     "output_type": "execute_result"
    }
   ],
   "source": [
    "circuit = QuantumCircuit(2, 2)\n",
    "circuit.h(0)\n",
    "circuit.cx(0, 1)\n",
    "circuit.measure([0, 1], [0, 1])"
   ],
   "metadata": {
    "collapsed": false,
    "pycharm": {
     "name": "#%%\n"
    }
   }
  },
  {
   "cell_type": "code",
   "execution_count": 33,
   "outputs": [
    {
     "data": {
      "text/plain": "SamplerResult(quasi_dists=[{0: 0.4999999999999999, 3: 0.4999999999999999}], metadata=[{}])"
     },
     "execution_count": 33,
     "metadata": {},
     "output_type": "execute_result"
    }
   ],
   "source": [
    "sampler = Sampler()\n",
    "job = sampler.run(circuit)\n",
    "result = job.result()\n",
    "result"
   ],
   "metadata": {
    "collapsed": false,
    "pycharm": {
     "name": "#%%\n"
    }
   }
  },
  {
   "cell_type": "code",
   "execution_count": 34,
   "outputs": [
    {
     "ename": "AccountNotFoundError",
     "evalue": "'No default ibm_quantum account saved.'",
     "output_type": "error",
     "traceback": [
      "\u001B[1;31m---------------------------------------------------------------------------\u001B[0m",
      "\u001B[1;31mAccountNotFoundError\u001B[0m                      Traceback (most recent call last)",
      "\u001B[1;32m~\\AppData\\Local\\Temp/ipykernel_17872/1163036785.py\u001B[0m in \u001B[0;36m<module>\u001B[1;34m\u001B[0m\n\u001B[0;32m      2\u001B[0m \u001B[1;32mfrom\u001B[0m \u001B[0mqiskit_ibm_runtime\u001B[0m \u001B[1;32mimport\u001B[0m \u001B[0mSampler\u001B[0m\u001B[1;33m\u001B[0m\u001B[1;33m\u001B[0m\u001B[0m\n\u001B[0;32m      3\u001B[0m \u001B[1;32mfrom\u001B[0m \u001B[0mqiskit_ibm_runtime\u001B[0m \u001B[1;32mimport\u001B[0m \u001B[0mOptions\u001B[0m\u001B[1;33m\u001B[0m\u001B[1;33m\u001B[0m\u001B[0m\n\u001B[1;32m----> 4\u001B[1;33m \u001B[0mservice\u001B[0m \u001B[1;33m=\u001B[0m \u001B[0mQiskitRuntimeService\u001B[0m\u001B[1;33m(\u001B[0m\u001B[0mchannel\u001B[0m\u001B[1;33m=\u001B[0m\u001B[1;34m\"ibm_quantum\"\u001B[0m\u001B[1;33m)\u001B[0m\u001B[1;33m\u001B[0m\u001B[1;33m\u001B[0m\u001B[0m\n\u001B[0m\u001B[0;32m      5\u001B[0m \u001B[0mbackend\u001B[0m \u001B[1;33m=\u001B[0m \u001B[0mservice\u001B[0m\u001B[1;33m.\u001B[0m\u001B[0mbackend\u001B[0m\u001B[1;33m(\u001B[0m\u001B[1;34m\"ibmq_qasm_simulator\"\u001B[0m\u001B[1;33m)\u001B[0m\u001B[1;33m\u001B[0m\u001B[1;33m\u001B[0m\u001B[0m\n\u001B[0;32m      6\u001B[0m \u001B[0moptions\u001B[0m \u001B[1;33m=\u001B[0m \u001B[0mOptions\u001B[0m\u001B[1;33m(\u001B[0m\u001B[1;33m)\u001B[0m\u001B[1;33m\u001B[0m\u001B[1;33m\u001B[0m\u001B[0m\n",
      "\u001B[1;32m~\\anaconda3\\lib\\site-packages\\qiskit_ibm_runtime\\qiskit_runtime_service.py\u001B[0m in \u001B[0;36m__init__\u001B[1;34m(self, channel, token, url, filename, name, instance, proxies, verify)\u001B[0m\n\u001B[0;32m    170\u001B[0m         \u001B[0msuper\u001B[0m\u001B[1;33m(\u001B[0m\u001B[1;33m)\u001B[0m\u001B[1;33m.\u001B[0m\u001B[0m__init__\u001B[0m\u001B[1;33m(\u001B[0m\u001B[1;33m)\u001B[0m\u001B[1;33m\u001B[0m\u001B[1;33m\u001B[0m\u001B[0m\n\u001B[0;32m    171\u001B[0m \u001B[1;33m\u001B[0m\u001B[0m\n\u001B[1;32m--> 172\u001B[1;33m         self._account = self._discover_account(\n\u001B[0m\u001B[0;32m    173\u001B[0m             \u001B[0mtoken\u001B[0m\u001B[1;33m=\u001B[0m\u001B[0mtoken\u001B[0m\u001B[1;33m,\u001B[0m\u001B[1;33m\u001B[0m\u001B[1;33m\u001B[0m\u001B[0m\n\u001B[0;32m    174\u001B[0m             \u001B[0murl\u001B[0m\u001B[1;33m=\u001B[0m\u001B[0murl\u001B[0m\u001B[1;33m,\u001B[0m\u001B[1;33m\u001B[0m\u001B[1;33m\u001B[0m\u001B[0m\n",
      "\u001B[1;32m~\\anaconda3\\lib\\site-packages\\qiskit_ibm_runtime\\qiskit_runtime_service.py\u001B[0m in \u001B[0;36m_discover_account\u001B[1;34m(self, token, url, instance, channel, auth, filename, name, proxies, verify)\u001B[0m\n\u001B[0;32m    270\u001B[0m                         \u001B[1;34m\"Loading default %s account. Input 'url' is ignored.\"\u001B[0m\u001B[1;33m,\u001B[0m \u001B[0mchannel\u001B[0m\u001B[1;33m\u001B[0m\u001B[1;33m\u001B[0m\u001B[0m\n\u001B[0;32m    271\u001B[0m                     )\n\u001B[1;32m--> 272\u001B[1;33m                 account = AccountManager.get(\n\u001B[0m\u001B[0;32m    273\u001B[0m                     \u001B[0mfilename\u001B[0m\u001B[1;33m=\u001B[0m\u001B[0mfilename\u001B[0m\u001B[1;33m,\u001B[0m \u001B[0mname\u001B[0m\u001B[1;33m=\u001B[0m\u001B[0mname\u001B[0m\u001B[1;33m,\u001B[0m \u001B[0mchannel\u001B[0m\u001B[1;33m=\u001B[0m\u001B[0mchannel\u001B[0m\u001B[1;33m\u001B[0m\u001B[1;33m\u001B[0m\u001B[0m\n\u001B[0;32m    274\u001B[0m                 )\n",
      "\u001B[1;32m~\\anaconda3\\lib\\site-packages\\qiskit_ibm_runtime\\accounts\\management.py\u001B[0m in \u001B[0;36mget\u001B[1;34m(cls, filename, name, channel)\u001B[0m\n\u001B[0;32m    170\u001B[0m                 \u001B[1;32mif\u001B[0m \u001B[0mos\u001B[0m\u001B[1;33m.\u001B[0m\u001B[0mpath\u001B[0m\u001B[1;33m.\u001B[0m\u001B[0misfile\u001B[0m\u001B[1;33m(\u001B[0m\u001B[0m_QISKITRC_CONFIG_FILE\u001B[0m\u001B[1;33m)\u001B[0m\u001B[1;33m:\u001B[0m\u001B[1;33m\u001B[0m\u001B[1;33m\u001B[0m\u001B[0m\n\u001B[0;32m    171\u001B[0m                     \u001B[1;32mreturn\u001B[0m \u001B[0mcls\u001B[0m\u001B[1;33m.\u001B[0m\u001B[0m_from_qiskitrc_file\u001B[0m\u001B[1;33m(\u001B[0m\u001B[1;33m)\u001B[0m\u001B[1;33m\u001B[0m\u001B[1;33m\u001B[0m\u001B[0m\n\u001B[1;32m--> 172\u001B[1;33m                 \u001B[1;32mraise\u001B[0m \u001B[0mAccountNotFoundError\u001B[0m\u001B[1;33m(\u001B[0m\u001B[1;34mf\"No default {channel} account saved.\"\u001B[0m\u001B[1;33m)\u001B[0m\u001B[1;33m\u001B[0m\u001B[1;33m\u001B[0m\u001B[0m\n\u001B[0m\u001B[0;32m    173\u001B[0m             \u001B[1;32mreturn\u001B[0m \u001B[0mAccount\u001B[0m\u001B[1;33m.\u001B[0m\u001B[0mfrom_saved_format\u001B[0m\u001B[1;33m(\u001B[0m\u001B[0msaved_account\u001B[0m\u001B[1;33m)\u001B[0m\u001B[1;33m\u001B[0m\u001B[1;33m\u001B[0m\u001B[0m\n\u001B[0;32m    174\u001B[0m \u001B[1;33m\u001B[0m\u001B[0m\n",
      "\u001B[1;31mAccountNotFoundError\u001B[0m: 'No default ibm_quantum account saved.'"
     ]
    }
   ],
   "source": [
    "from qiskit_ibm_runtime import QiskitRuntimeService\n",
    "from qiskit_ibm_runtime import Sampler\n",
    "from qiskit_ibm_runtime import Options\n",
    "service = QiskitRuntimeService(channel=\"ibm_quantum\")\n",
    "backend = service.backend(\"ibmq_qasm_simulator\")\n",
    "options = Options()\n",
    "sampler = Sampler(session=backend, options=options)\n",
    "job = sampler.run(circuit)"
   ],
   "metadata": {
    "collapsed": false,
    "pycharm": {
     "name": "#%%\n"
    }
   }
  },
  {
   "cell_type": "code",
   "execution_count": 35,
   "outputs": [
    {
     "name": "stdout",
     "output_type": "stream",
     "text": [
      ">>> Job ID: e32cdd73-74e2-4791-8df9-9b5e78e97f4c\n",
      ">>> Job Status: JobStatus.DONE\n"
     ]
    }
   ],
   "source": [
    "print(f\">>> Job ID: {job.job_id()}\")\n",
    "print(f\">>> Job Status: {job.status()}\")"
   ],
   "metadata": {
    "collapsed": false,
    "pycharm": {
     "name": "#%%\n"
    }
   }
  },
  {
   "cell_type": "code",
   "execution_count": 36,
   "outputs": [
    {
     "name": "stdout",
     "output_type": "stream",
     "text": [
      ">>> SamplerResult(quasi_dists=[{0: 0.4999999999999999, 3: 0.4999999999999999}], metadata=[{}])\n",
      " > Quasi-distribution: {0: 0.4999999999999999, 3: 0.4999999999999999}\n",
      " > Metadata: {}\n"
     ]
    }
   ],
   "source": [
    "result = job.result()\n",
    "print(f\">>> {result}\")\n",
    "print(f\" > Quasi-distribution: {result.quasi_dists[0]}\")\n",
    "print(f\" > Metadata: {result.metadata[0]}\")"
   ],
   "metadata": {
    "collapsed": false,
    "pycharm": {
     "name": "#%%\n"
    }
   }
  },
  {
   "cell_type": "markdown",
   "source": [
    "# Estimator"
   ],
   "metadata": {
    "collapsed": false,
    "pycharm": {
     "name": "#%% md\n"
    }
   }
  },
  {
   "cell_type": "code",
   "execution_count": 44,
   "outputs": [
    {
     "name": "stdout",
     "output_type": "stream",
     "text": [
      ">>> Job ID: e3feb094-53bf-4a92-9e78-824aa249ff81\n",
      ">>> Job Status: JobStatus.DONE\n"
     ]
    },
    {
     "data": {
      "text/plain": "EstimatorResult(values=array([1.]), metadata=[{}])"
     },
     "execution_count": 44,
     "metadata": {},
     "output_type": "execute_result"
    }
   ],
   "source": [
    "from qiskit.primitives import Estimator\n",
    "from qiskit.quantum_info import SparsePauliOp\n",
    "circuit = QuantumCircuit(2)\n",
    "circuit.h(0)\n",
    "circuit.cx(0, 1)\n",
    "observable = SparsePauliOp(\"ZZ\")\n",
    "estimator = Estimator()\n",
    "job = estimator.run(circuit, observable)\n",
    "print(f\">>> Job ID: {job.job_id()}\")\n",
    "print(f\">>> Job Status: {job.status()}\")\n",
    "result = job.result()\n",
    "result"
   ],
   "metadata": {
    "collapsed": false,
    "pycharm": {
     "name": "#%%\n"
    }
   }
  },
  {
   "cell_type": "code",
   "execution_count": 45,
   "outputs": [
    {
     "data": {
      "text/plain": "EstimatorResult(values=array([ 1., -1.]), metadata=[{}, {}])"
     },
     "execution_count": 45,
     "metadata": {},
     "output_type": "execute_result"
    }
   ],
   "source": [
    "observable1 = SparsePauliOp(\"ZZ\")\n",
    "observable2 = SparsePauliOp(\"YY\")\n",
    "job = estimator.run([circuit] * 2, [observable1, observable2])\n",
    "job.result()"
   ],
   "metadata": {
    "collapsed": false,
    "pycharm": {
     "name": "#%%\n"
    }
   }
  },
  {
   "cell_type": "markdown",
   "source": [
    "# Error suppression, mitigation, correction"
   ],
   "metadata": {
    "collapsed": false,
    "pycharm": {
     "name": "#%% md\n"
    }
   }
  },
  {
   "cell_type": "code",
   "execution_count": 47,
   "outputs": [],
   "source": [
    "options = Options()\n",
    "options.execution.shots = 1000\n",
    "options.optimization_level = 0 # no optimization\n",
    "options.resilience_level = 2 # ZNE, Zero noise extrapolation"
   ],
   "metadata": {
    "collapsed": false,
    "pycharm": {
     "name": "#%%\n"
    }
   }
  },
  {
   "cell_type": "code",
   "execution_count": null,
   "outputs": [],
   "source": [],
   "metadata": {
    "collapsed": false,
    "pycharm": {
     "name": "#%%\n"
    }
   }
  }
 ],
 "metadata": {
  "kernelspec": {
   "display_name": "Python 3",
   "language": "python",
   "name": "python3"
  },
  "language_info": {
   "codemirror_mode": {
    "name": "ipython",
    "version": 2
   },
   "file_extension": ".py",
   "mimetype": "text/x-python",
   "name": "python",
   "nbconvert_exporter": "python",
   "pygments_lexer": "ipython2",
   "version": "2.7.6"
  }
 },
 "nbformat": 4,
 "nbformat_minor": 0
}