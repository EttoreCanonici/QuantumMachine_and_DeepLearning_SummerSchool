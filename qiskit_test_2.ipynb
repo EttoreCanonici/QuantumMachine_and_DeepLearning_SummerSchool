{
 "cells": [
  {
   "cell_type": "code",
   "execution_count": 1,
   "metadata": {
    "collapsed": true
   },
   "outputs": [
    {
     "data": {
      "text/plain": "'1.2.0'"
     },
     "execution_count": 1,
     "metadata": {},
     "output_type": "execute_result"
    }
   ],
   "source": [
    "import sklearn\n",
    "sklearn.__version__"
   ]
  },
  {
   "cell_type": "code",
   "execution_count": 5,
   "outputs": [],
   "source": [
    "from sklearn.datasets import load_diabetes\n",
    "from sklearn.svm import SVR\n",
    "from sklearn.kernel_ridge import KernelRidge\n",
    "from sklearn.linear_model import LinearRegression\n",
    "from sklearn.metrics import mean_squared_error, r2_score"
   ],
   "metadata": {
    "collapsed": false,
    "pycharm": {
     "name": "#%%\n"
    }
   }
  },
  {
   "cell_type": "code",
   "execution_count": 7,
   "outputs": [
    {
     "data": {
      "text/plain": "(72.33599613368506, -0.18011566958984604)"
     },
     "execution_count": 7,
     "metadata": {},
     "output_type": "execute_result"
    }
   ],
   "source": [
    "from sklearn.model_selection import train_test_split\n",
    "from sklearn.preprocessing import StandardScaler\n",
    "import numpy as np\n",
    "# Load the Iris dataset\n",
    "MAX_ELEMENTS = 30\n",
    "MAX_FEATURES = 4\n",
    "iris = load_diabetes()\n",
    "X = iris.data[:MAX_ELEMENTS, :MAX_FEATURES]\n",
    "y = iris.target[:MAX_ELEMENTS]\n",
    "# Standardize the features\n",
    "scaler = StandardScaler()\n",
    "X = scaler.fit_transform(X)\n",
    "# Split the data into training and testing sets\n",
    "X_train, X_test, y_train, y_test = train_test_split(X, y, test_size=0.33334, random_state=5454)\n",
    "# Instantiate a machine learning model\n",
    "model = LinearRegression()\n",
    "# model = LinearRegression(fit_intercept=False)\n",
    "# model = KernelRidge()\n",
    "# model = SVR()\n",
    "# Fit the model to the training data\n",
    "model.fit(X_train, y_train)\n",
    "# Predict the labels for the test data\n",
    "y_pred = model.predict(X_test)\n",
    "# Calculate the accuracy\n",
    "rmse = mean_squared_error(y_test, y_pred, squared=False)\n",
    "r2 = r2_score(y_test, y_pred)\n",
    "rmse, r2"
   ],
   "metadata": {
    "collapsed": false,
    "pycharm": {
     "name": "#%%\n"
    }
   }
  },
  {
   "cell_type": "markdown",
   "source": [
    "# How to construct a kernel Gram matrix"
   ],
   "metadata": {
    "collapsed": false,
    "pycharm": {
     "name": "#%% md\n"
    }
   }
  },
  {
   "cell_type": "code",
   "execution_count": 8,
   "outputs": [],
   "source": [
    "def kappa(xi, xj):\n",
    "    return np.exp(-0.1 * np.linalg.norm(xi - xj))\n",
    "def build_gram_matrix(XA, XB, k):\n",
    "    return np.array([[k(xi, xj) for xj in XB] for xi in XA])\n",
    "\n",
    " # import scipy\n",
    " # return scipy.spatial.distance.cdist(XA, XB, metric=k)"
   ],
   "metadata": {
    "collapsed": false,
    "pycharm": {
     "name": "#%%\n"
    }
   }
  },
  {
   "cell_type": "code",
   "execution_count": 9,
   "outputs": [],
   "source": [
    "K_train = build_gram_matrix(X_train, X_train, kappa)\n",
    "K_test = build_gram_matrix(X_test, X_train, kappa)"
   ],
   "metadata": {
    "collapsed": false,
    "pycharm": {
     "name": "#%%\n"
    }
   }
  },
  {
   "cell_type": "code",
   "execution_count": 10,
   "outputs": [
    {
     "data": {
      "text/plain": "72.69927956684273"
     },
     "execution_count": 10,
     "metadata": {},
     "output_type": "execute_result"
    }
   ],
   "source": [
    "model = SVR(kernel='precomputed')\n",
    "model.fit(K_train, y_train)\n",
    "y_pred = model.predict(K_test)\n",
    "rmse = mean_squared_error(y_test, y_pred, squared=False)\n",
    "rmse"
   ],
   "metadata": {
    "collapsed": false,
    "pycharm": {
     "name": "#%%\n"
    }
   }
  },
  {
   "cell_type": "markdown",
   "source": [
    "# The first quantum kernel with Qiskit"
   ],
   "metadata": {
    "collapsed": false,
    "pycharm": {
     "name": "#%% md\n"
    }
   }
  },
  {
   "cell_type": "code",
   "execution_count": 12,
   "outputs": [
    {
     "data": {
      "text/plain": "'0.6.1'"
     },
     "execution_count": 12,
     "metadata": {},
     "output_type": "execute_result"
    }
   ],
   "source": [
    "import qiskit_machine_learning\n",
    "qiskit_machine_learning.__version__"
   ],
   "metadata": {
    "collapsed": false,
    "pycharm": {
     "name": "#%%\n"
    }
   }
  },
  {
   "cell_type": "code",
   "execution_count": 13,
   "outputs": [],
   "source": [
    "from qiskit import QuantumCircuit, Aer, execute\n",
    "from qiskit.circuit import ParameterVector"
   ],
   "metadata": {
    "collapsed": false,
    "pycharm": {
     "name": "#%%\n"
    }
   }
  },
  {
   "cell_type": "code",
   "execution_count": 14,
   "outputs": [
    {
     "data": {
      "text/plain": "     ┌──────────┐     ┌──────────┐                        \nq_0: ┤ Rx(x[0]) ├──■──┤ Rx(x[0]) ├────────────────────────\n     ├──────────┤┌─┴─┐└──────────┘┌──────────┐            \nq_1: ┤ Rx(x[1]) ├┤ X ├─────■──────┤ Rx(x[1]) ├────────────\n     ├──────────┤└───┘   ┌─┴─┐    └──────────┘┌──────────┐\nq_2: ┤ Rx(x[2]) ├────────┤ X ├─────────■──────┤ Rx(x[2]) ├\n     ├──────────┤        └───┘       ┌─┴─┐    ├──────────┤\nq_3: ┤ Rx(x[3]) ├────────────────────┤ X ├────┤ Rx(x[3]) ├\n     └──────────┘                    └───┘    └──────────┘",
      "text/html": "<pre style=\"word-wrap: normal;white-space: pre;background: #fff0;line-height: 1.1;font-family: &quot;Courier New&quot;,Courier,monospace\">     ┌──────────┐     ┌──────────┐                        \nq_0: ┤ Rx(x[0]) ├──■──┤ Rx(x[0]) ├────────────────────────\n     ├──────────┤┌─┴─┐└──────────┘┌──────────┐            \nq_1: ┤ Rx(x[1]) ├┤ X ├─────■──────┤ Rx(x[1]) ├────────────\n     ├──────────┤└───┘   ┌─┴─┐    └──────────┘┌──────────┐\nq_2: ┤ Rx(x[2]) ├────────┤ X ├─────────■──────┤ Rx(x[2]) ├\n     ├──────────┤        └───┘       ┌─┴─┐    ├──────────┤\nq_3: ┤ Rx(x[3]) ├────────────────────┤ X ├────┤ Rx(x[3]) ├\n     └──────────┘                    └───┘    └──────────┘</pre>"
     },
     "execution_count": 14,
     "metadata": {},
     "output_type": "execute_result"
    }
   ],
   "source": [
    "params = ParameterVector('x', MAX_FEATURES)\n",
    "feature_map = QuantumCircuit(4)\n",
    "feature_map.rx(params[0], 0)\n",
    "feature_map.rx(params[1], 1)\n",
    "feature_map.rx(params[2], 2)\n",
    "feature_map.rx(params[3], 3)\n",
    "feature_map.cx(0, 1)\n",
    "feature_map.cx(1, 2)\n",
    "feature_map.cx(2, 3)\n",
    "feature_map.rx(params[0], 0)\n",
    "feature_map.rx(params[1], 1)\n",
    "feature_map.rx(params[2], 2)\n",
    "feature_map.rx(params[3], 3)\n",
    "feature_map.draw()"
   ],
   "metadata": {
    "collapsed": false,
    "pycharm": {
     "name": "#%%\n"
    }
   }
  },
  {
   "cell_type": "code",
   "execution_count": 15,
   "outputs": [],
   "source": [
    "def quantum_kappa(xi, xj, fm):\n",
    " n = fm.num_qubits\n",
    " qc = QuantumCircuit(n, n)\n",
    " qc.append(fm.bind_parameters({params: xi}), range(n))\n",
    " qc.append(fm.inverse().bind_parameters({params: xj}), range(n))\n",
    " qc.measure(range(n), range(n))\n",
    " backend = Aer.get_backend('qasm_simulator')\n",
    " SHOTS = 100_000\n",
    " counts = execute(qc, backend, shots=SHOTS).result().get_counts()\n",
    " inner_product = counts.get('0' * n, 0) / SHOTS\n",
    " return inner_product"
   ],
   "metadata": {
    "collapsed": false,
    "pycharm": {
     "name": "#%%\n"
    }
   }
  },
  {
   "cell_type": "code",
   "execution_count": 16,
   "outputs": [
    {
     "data": {
      "text/plain": "0.06822"
     },
     "execution_count": 16,
     "metadata": {},
     "output_type": "execute_result"
    }
   ],
   "source": [
    "kij = quantum_kappa(X[0], X[1], feature_map)\n",
    "kij"
   ],
   "metadata": {
    "collapsed": false,
    "pycharm": {
     "name": "#%%\n"
    }
   }
  },
  {
   "cell_type": "code",
   "execution_count": 17,
   "outputs": [
    {
     "name": "stderr",
     "output_type": "stream",
     "text": [
      "C:\\Users\\ettor\\AppData\\Local\\Temp/ipykernel_10840/3122841400.py:3: DeprecationWarning: The class ``qiskit.utils.quantum_instance.QuantumInstance`` is deprecated as of qiskit-terra 0.24.0. It will be removed no earlier than 3 months after the release date. For code migration guidelines, visit https://qisk.it/qi_migration.\n",
      "  qi = QuantumInstance(Aer.get_backend('qasm_simulator'), shots=100_000)\n"
     ]
    },
    {
     "data": {
      "text/plain": "array([[0.06936]])"
     },
     "execution_count": 17,
     "metadata": {},
     "output_type": "execute_result"
    }
   ],
   "source": [
    "from qiskit_machine_learning.kernels import QuantumKernel\n",
    "from qiskit.utils import QuantumInstance\n",
    "qi = QuantumInstance(Aer.get_backend('qasm_simulator'), shots=100_000)\n",
    "quantum_kernel = QuantumKernel(feature_map=feature_map, quantum_instance=qi)\n",
    "quantum_kernel.evaluate(X[0], X[1])"
   ],
   "metadata": {
    "collapsed": false,
    "pycharm": {
     "name": "#%%\n"
    }
   }
  },
  {
   "cell_type": "code",
   "execution_count": 18,
   "outputs": [],
   "source": [
    "from qiskit_machine_learning.kernels import FidelityQuantumKernel\n",
    "from qiskit.primitives import Sampler\n",
    "from qiskit.algorithms.state_fidelities import ComputeUncompute"
   ],
   "metadata": {
    "collapsed": false,
    "pycharm": {
     "name": "#%%\n"
    }
   }
  },
  {
   "cell_type": "markdown",
   "source": [
    "# Some properties of quantum kernels\n",
    "When studying quantum kernels, it is crucial to analyze their properties to gain insights into their behavior\n",
    "and applicability. Here, we highlight three important aspects of quantum kernels: eigenvalue distribution,\n",
    "concentration of values, and kernel alignment."
   ],
   "metadata": {
    "collapsed": false,
    "pycharm": {
     "name": "#%% md\n"
    }
   }
  },
  {
   "cell_type": "code",
   "execution_count": 22,
   "outputs": [
    {
     "data": {
      "text/plain": "array([4.20366679, 2.32856919, 1.99858164, 1.71916782, 1.67597726,\n       1.18279248, 1.10739411, 0.93233497, 0.80665731, 0.65525887,\n       0.54897251, 0.50673514, 0.43933913, 0.38598946, 0.1966566 ,\n       0.17902289, 0.07859925, 0.04443015, 0.00985444])"
     },
     "execution_count": 22,
     "metadata": {},
     "output_type": "execute_result"
    }
   ],
   "source": [
    "#Eigenvalue distribution\n",
    "\n",
    "from numpy.linalg import eigh\n",
    "K_train = quantum_kernel.evaluate(X_train, X_train)\n",
    "eigvals, eigvecs = eigh(K_train)\n",
    "np.sort(eigvals)[::-1]"
   ],
   "metadata": {
    "collapsed": false,
    "pycharm": {
     "name": "#%%\n"
    }
   }
  },
  {
   "cell_type": "code",
   "source": [
    "# Feature map with bandwidth\n",
    "bandwidth = 0.1\n",
    "bw_feature_map = QuantumCircuit(4)\n",
    "bw_feature_map.rx(bandwidth * params[0], 0)\n",
    "bw_feature_map.rx(bandwidth * params[1], 1)\n",
    "bw_feature_map.rx(bandwidth * params[2], 2)\n",
    "bw_feature_map.rx(bandwidth * params[3], 3)"
   ],
   "metadata": {
    "collapsed": false,
    "pycharm": {
     "name": "#%%\n"
    }
   },
   "execution_count": 23,
   "outputs": [
    {
     "data": {
      "text/plain": "<qiskit.circuit.instructionset.InstructionSet at 0x1e8fc8cdf10>"
     },
     "execution_count": 23,
     "metadata": {},
     "output_type": "execute_result"
    }
   ]
  },
  {
   "cell_type": "code",
   "execution_count": 24,
   "outputs": [
    {
     "name": "stdout",
     "output_type": "stream",
     "text": [
      "Inner product in 3 dim: -0.296193200\n"
     ]
    }
   ],
   "source": [
    "# Concentration of values\n",
    "x1 = np.random.normal(size=(3,))\n",
    "x2 = np.random.normal(size=(3,))\n",
    "x1 /= np.linalg.norm(x1)\n",
    "x2 /= np.linalg.norm(x2)\n",
    "print(f\"Inner product in 3 dim: {x1.dot(x2):0.9f}\")"
   ],
   "metadata": {
    "collapsed": false,
    "pycharm": {
     "name": "#%%\n"
    }
   }
  },
  {
   "cell_type": "code",
   "execution_count": 25,
   "outputs": [
    {
     "name": "stdout",
     "output_type": "stream",
     "text": [
      "Inner product in 3000 dim: 0.033223292\n"
     ]
    }
   ],
   "source": [
    "x1 = np.random.normal(size=(3000,))\n",
    "x2 = np.random.normal(size=(3000,))\n",
    "x1 /= np.linalg.norm(x1)\n",
    "x2 /= np.linalg.norm(x2)\n",
    "print(f\"Inner product in 3000 dim: {x1.dot(x2):0.9f}\")"
   ],
   "metadata": {
    "collapsed": false,
    "pycharm": {
     "name": "#%%\n"
    }
   }
  },
  {
   "cell_type": "code",
   "execution_count": 26,
   "outputs": [
    {
     "name": "stdout",
     "output_type": "stream",
     "text": [
      "The dimensionality of Y is (19, 19)\n"
     ]
    }
   ],
   "source": [
    "# Kernel alignment\n",
    "def target_alignment(K, Y):\n",
    " norm = np.sqrt(np.sum(K * K) * np.sum(Y * Y))\n",
    " inner_product = np.sum(K * Y) / norm\n",
    " return inner_product\n",
    "\n",
    "Y_train = np.outer(y_train, y_train)\n",
    "print(f\"The dimensionality of Y is {Y_train.shape}\")"
   ],
   "metadata": {
    "collapsed": false,
    "pycharm": {
     "name": "#%%\n"
    }
   }
  },
  {
   "cell_type": "code",
   "execution_count": 27,
   "outputs": [
    {
     "data": {
      "text/plain": "0.5398674017676937"
     },
     "execution_count": 27,
     "metadata": {},
     "output_type": "execute_result"
    }
   ],
   "source": [
    "target_alignment(K_train, Y_train)"
   ],
   "metadata": {
    "collapsed": false,
    "pycharm": {
     "name": "#%%\n"
    }
   }
  },
  {
   "cell_type": "code",
   "execution_count": null,
   "outputs": [],
   "source": [],
   "metadata": {
    "collapsed": false,
    "pycharm": {
     "name": "#%%\n"
    }
   }
  }
 ],
 "metadata": {
  "kernelspec": {
   "display_name": "Python 3",
   "language": "python",
   "name": "python3"
  },
  "language_info": {
   "codemirror_mode": {
    "name": "ipython",
    "version": 2
   },
   "file_extension": ".py",
   "mimetype": "text/x-python",
   "name": "python",
   "nbconvert_exporter": "python",
   "pygments_lexer": "ipython2",
   "version": "2.7.6"
  }
 },
 "nbformat": 4,
 "nbformat_minor": 0
}